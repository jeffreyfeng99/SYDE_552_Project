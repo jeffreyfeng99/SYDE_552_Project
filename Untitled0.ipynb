{
  "nbformat": 4,
  "nbformat_minor": 0,
  "metadata": {
    "colab": {
      "name": "Untitled0.ipynb",
      "provenance": [],
      "mount_file_id": "1ZR4TbASdQ5l8J2v3fB41qt8vE-SeJXsW",
      "authorship_tag": "ABX9TyM+yTBGxqw9m9JtcdSCJR2M",
      "include_colab_link": true
    },
    "kernelspec": {
      "name": "python3",
      "display_name": "Python 3"
    },
    "language_info": {
      "name": "python"
    }
  },
  "cells": [
    {
      "cell_type": "markdown",
      "metadata": {
        "id": "view-in-github",
        "colab_type": "text"
      },
      "source": [
        "<a href=\"https://colab.research.google.com/github/jeffreyfeng99/SYDE_552_Project/blob/master/Untitled0.ipynb\" target=\"_parent\"><img src=\"https://colab.research.google.com/assets/colab-badge.svg\" alt=\"Open In Colab\"/></a>"
      ]
    },
    {
      "cell_type": "code",
      "execution_count": null,
      "metadata": {
        "colab": {
          "base_uri": "https://localhost:8080/"
        },
        "id": "_Fleizhswm2b",
        "outputId": "7611e939-7009-4639-e196-d43ab983daf2"
      },
      "outputs": [
        {
          "output_type": "stream",
          "name": "stdout",
          "text": [
            "--2022-03-17 03:06:05--  http://cs231n.stanford.edu/tiny-imagenet-200.zip\n",
            "Resolving cs231n.stanford.edu (cs231n.stanford.edu)... 171.64.68.10\n",
            "Connecting to cs231n.stanford.edu (cs231n.stanford.edu)|171.64.68.10|:80... connected.\n",
            "HTTP request sent, awaiting response... 200 OK\n",
            "Length: 248100043 (237M) [application/zip]\n",
            "Saving to: ‘tiny-imagenet-200.zip.1’\n",
            "\n",
            "tiny-imagenet-200.z 100%[===================>] 236.61M  36.8MB/s    in 11s     \n",
            "\n",
            "2022-03-17 03:06:16 (22.0 MB/s) - ‘tiny-imagenet-200.zip.1’ saved [248100043/248100043]\n",
            "\n",
            "replace tiny-imagenet-200/words.txt? [y]es, [n]o, [A]ll, [N]one, [r]ename: y\n",
            "replace tiny-imagenet-200/wnids.txt? [y]es, [n]o, [A]ll, [N]one, [r]ename: y\n",
            "replace tiny-imagenet-200/test/images/test_1860.JPEG? [y]es, [n]o, [A]ll, [N]one, [r]ename: An\n",
            "n\n"
          ]
        }
      ],
      "source": [
        "# Retrieve data directly from Stanford data source\n",
        "!wget http://cs231n.stanford.edu/tiny-imagenet-200.zip\n",
        "  \n",
        "# Unzip raw zip file\n",
        "!unzip -qq 'tiny-imagenet-200.zip'\n",
        "\n",
        "# Define main data directory\n",
        "DATA_DIR = 'tiny-imagenet-200' # Original images come in shapes of [3,64,64]\n",
        "\n",
        "# Define training and validation data paths\n",
        "# TRAIN_DIR = os.path.join(DATA_DIR, 'train') \n",
        "# VALID_DIR = os.path.join(DATA_DIR, 'val')"
      ]
    },
    {
      "cell_type": "code",
      "source": [
        "!git clone https://github.com/jeffreyfeng99/SYDE_552_Project.git\n"
      ],
      "metadata": {
        "colab": {
          "base_uri": "https://localhost:8080/"
        },
        "id": "jZMu-Dce3ABN",
        "outputId": "2c251a7b-93cd-4066-a7cf-a0fb95c8f2c7"
      },
      "execution_count": 2,
      "outputs": [
        {
          "output_type": "stream",
          "name": "stdout",
          "text": [
            "Cloning into 'SYDE_552_Project'...\n",
            "remote: Enumerating objects: 11, done.\u001b[K\n",
            "remote: Counting objects: 100% (11/11), done.\u001b[K\n",
            "remote: Compressing objects: 100% (9/9), done.\u001b[K\n",
            "remote: Total 11 (delta 2), reused 10 (delta 1), pack-reused 0\u001b[K\n",
            "Unpacking objects: 100% (11/11), done.\n"
          ]
        }
      ]
    }
  ]
}