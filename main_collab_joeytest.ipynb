{
  "nbformat": 4,
  "nbformat_minor": 0,
  "metadata": {
    "colab": {
      "name": "main_collab.ipynb",
      "provenance": [],
      "collapsed_sections": [],
      "include_colab_link": true
    },
    "kernelspec": {
      "name": "python3",
      "display_name": "Python 3"
    },
    "language_info": {
      "name": "python"
    },
    "accelerator": "GPU"
  },
  "cells": [
    {
      "cell_type": "markdown",
      "metadata": {
        "id": "view-in-github",
        "colab_type": "text"
      },
      "source": [
        "<a href=\"https://colab.research.google.com/github/jeffreyfeng99/SYDE_552_Project/blob/master/main_collab_joeytest.ipynb\" target=\"_parent\"><img src=\"https://colab.research.google.com/assets/colab-badge.svg\" alt=\"Open In Colab\"/></a>"
      ]
    },
    {
      "cell_type": "code",
      "execution_count": 1,
      "metadata": {
        "id": "_EWg-yZSAzhH",
        "outputId": "bd550c07-7b2a-412b-9384-09e74a51a2fa",
        "colab": {
          "base_uri": "https://localhost:8080/"
        }
      },
      "outputs": [
        {
          "output_type": "stream",
          "name": "stdout",
          "text": [
            "--2022-03-24 19:55:16--  http://cs231n.stanford.edu/tiny-imagenet-200.zip\n",
            "Resolving cs231n.stanford.edu (cs231n.stanford.edu)... 171.64.68.10\n",
            "Connecting to cs231n.stanford.edu (cs231n.stanford.edu)|171.64.68.10|:80... connected.\n",
            "HTTP request sent, awaiting response... 200 OK\n",
            "Length: 248100043 (237M) [application/zip]\n",
            "Saving to: ‘tiny-imagenet-200.zip’\n",
            "\n",
            "tiny-imagenet-200.z 100%[===================>] 236.61M  53.7MB/s    in 5.8s    \n",
            "\n",
            "2022-03-24 19:55:22 (40.7 MB/s) - ‘tiny-imagenet-200.zip’ saved [248100043/248100043]\n",
            "\n"
          ]
        }
      ],
      "source": [
        "# Retrieve data directly from Stanford data source\n",
        "!wget http://cs231n.stanford.edu/tiny-imagenet-200.zip\n",
        "  \n",
        "# Unzip raw zip file\n",
        "!unzip -qq 'tiny-imagenet-200.zip'\n",
        "\n",
        "# Define main data directory\n",
        "DATA_DIR = 'tiny-imagenet-200' # Original images come in shapes of [3,64,64]\n",
        "\n",
        "# Define training and validation data paths\n",
        "# TRAIN_DIR = os.path.join(DATA_DIR, 'train') \n",
        "# VALID_DIR = os.path.join(DATA_DIR, 'val')"
      ]
    },
    {
      "cell_type": "code",
      "source": [
        "from google.colab import drive\n",
        "drive.mount('/content/drive')"
      ],
      "metadata": {
        "id": "oYYwCfgZaVFR",
        "outputId": "5208fc5e-8aad-4bad-9b9c-b0c7112cea1f",
        "colab": {
          "base_uri": "https://localhost:8080/"
        }
      },
      "execution_count": 2,
      "outputs": [
        {
          "output_type": "stream",
          "name": "stdout",
          "text": [
            "Mounted at /content/drive\n"
          ]
        }
      ]
    },
    {
      "cell_type": "code",
      "source": [
        "!git clone https://github.com/jeffreyfeng99/SYDE_552_Project.git\n"
      ],
      "metadata": {
        "id": "KdvnV6FoA8Up",
        "outputId": "7f643a06-1178-431b-b9d5-7d4e12da9828",
        "colab": {
          "base_uri": "https://localhost:8080/"
        }
      },
      "execution_count": 3,
      "outputs": [
        {
          "output_type": "stream",
          "name": "stdout",
          "text": [
            "Cloning into 'SYDE_552_Project'...\n",
            "remote: Enumerating objects: 43, done.\u001b[K\n",
            "remote: Counting objects: 100% (43/43), done.\u001b[K\n",
            "remote: Compressing objects: 100% (35/35), done.\u001b[K\n",
            "remote: Total 43 (delta 17), reused 25 (delta 6), pack-reused 0\u001b[K\n",
            "Unpacking objects: 100% (43/43), done.\n"
          ]
        }
      ]
    },
    {
      "cell_type": "code",
      "source": [
        "!python SYDE_552_Project/src/test.py\n"
      ],
      "metadata": {
        "id": "C-HXKEQdA-A-",
        "outputId": "15f1eed3-9286-4a9b-a47c-96890ac9aa16",
        "colab": {
          "base_uri": "https://localhost:8080/"
        }
      },
      "execution_count": 4,
      "outputs": [
        {
          "output_type": "stream",
          "name": "stdout",
          "text": [
            "hi joey\n"
          ]
        }
      ]
    },
    {
      "cell_type": "code",
      "source": [
        "!ls -l"
      ],
      "metadata": {
        "id": "xn0nDfZvgZ0j",
        "outputId": "07565666-b4c4-4b51-d1dc-b58496903546",
        "colab": {
          "base_uri": "https://localhost:8080/"
        }
      },
      "execution_count": 7,
      "outputs": [
        {
          "output_type": "stream",
          "name": "stdout",
          "text": [
            "total 242308\n",
            "drwx------ 5 root root      4096 Mar 24 19:56 drive\n",
            "drwxr-xr-x 1 root root      4096 Mar  9 14:48 sample_data\n",
            "drwxr-xr-x 5 root root      4096 Mar 24 19:56 SYDE_552_Project\n",
            "drwxrwxr-x 5 root root      4096 Feb  9  2015 tiny-imagenet-200\n",
            "-rw-r--r-- 1 root root 248100043 Feb  9  2015 tiny-imagenet-200.zip\n"
          ]
        }
      ]
    },
    {
      "cell_type": "code",
      "source": [
        "!python SYDE_552_Project/src/main.py --pretrainedmodel_pth '/content/SYDE_552_Project/pretrained/pretrained_tiny_t30.pth.tar' --dataset_pth '/content/tiny-imagenet-200' --target_layer 6"
      ],
      "metadata": {
        "id": "xmHfVBOJcije",
        "outputId": "4f07b4a9-80be-451c-8ddb-4aa23b66979d",
        "colab": {
          "base_uri": "https://localhost:8080/"
        }
      },
      "execution_count": 8,
      "outputs": [
        {
          "output_type": "stream",
          "name": "stdout",
          "text": [
            "Loading Model\n",
            "********** Extracting heatmap **********\n"
          ]
        }
      ]
    }
  ]
}