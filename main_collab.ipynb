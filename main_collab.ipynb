{
  "nbformat": 4,
  "nbformat_minor": 0,
  "metadata": {
    "colab": {
      "name": "main_collab.ipynb",
      "provenance": [],
      "collapsed_sections": [],
      "authorship_tag": "ABX9TyMvsaHwd+m/g5HRzKwtfBeK",
      "include_colab_link": true
    },
    "kernelspec": {
      "name": "python3",
      "display_name": "Python 3"
    },
    "language_info": {
      "name": "python"
    }
  },
  "cells": [
    {
      "cell_type": "markdown",
      "metadata": {
        "id": "view-in-github",
        "colab_type": "text"
      },
      "source": [
        "<a href=\"https://colab.research.google.com/github/jeffreyfeng99/SYDE_552_Project/blob/master/main_collab.ipynb\" target=\"_parent\"><img src=\"https://colab.research.google.com/assets/colab-badge.svg\" alt=\"Open In Colab\"/></a>"
      ]
    },
    {
      "cell_type": "code",
      "execution_count": null,
      "metadata": {
        "id": "_EWg-yZSAzhH"
      },
      "outputs": [],
      "source": [
        "# Retrieve data directly from Stanford data source\n",
        "!wget http://cs231n.stanford.edu/tiny-imagenet-200.zip\n",
        "  \n",
        "# Unzip raw zip file\n",
        "!unzip -qq 'tiny-imagenet-200.zip'\n",
        "\n",
        "# Define main data directory\n",
        "DATA_DIR = 'tiny-imagenet-200' # Original images come in shapes of [3,64,64]\n",
        "\n",
        "# Define training and validation data paths\n",
        "# TRAIN_DIR = os.path.join(DATA_DIR, 'train') \n",
        "# VALID_DIR = os.path.join(DATA_DIR, 'val')"
      ]
    },
    {
      "cell_type": "code",
      "source": [
        "!git clone https://github.com/jeffreyfeng99/SYDE_552_Project.git\n"
      ],
      "metadata": {
        "id": "KdvnV6FoA8Up"
      },
      "execution_count": null,
      "outputs": []
    },
    {
      "cell_type": "code",
      "source": [
        "!python 'SYDE_552_Project/test.py'\n"
      ],
      "metadata": {
        "id": "C-HXKEQdA-A-"
      },
      "execution_count": null,
      "outputs": []
    }
  ]
}